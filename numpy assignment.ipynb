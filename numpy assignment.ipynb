{
 "cells": [
  {
   "cell_type": "code",
   "execution_count": 1,
   "metadata": {},
   "outputs": [],
   "source": [
    "import numpy as np"
   ]
  },
  {
   "cell_type": "markdown",
   "metadata": {},
   "source": [
    "<h3>Write a function so that the columns of the output matrix are powers of the input\n",
    "vector. <br><br>\n",
    "The order of the powers is determined by the increasing boolean argument. Specifically, when<br>\n",
    "increasing is False, the i-th output column is the input vector raised element-wise to the power<br>\n",
    "of N - i - 1.<br><br>\n",
    "HINT: Such a matrix with a geometric progression in each row is named for Alexandre-<br>\n",
    "Theophile Vandermonde.</h3>"
   ]
  },
  {
   "cell_type": "code",
   "execution_count": 2,
   "metadata": {},
   "outputs": [
    {
     "name": "stdout",
     "output_type": "stream",
     "text": [
      "Generated Vector : \n",
      " [[2]\n",
      " [2]\n",
      " [3]\n",
      " [2]]\n",
      "-------------------\n",
      "Increasing set to False : \n",
      " [[ 8.  4.  2.  1.]\n",
      " [ 8.  4.  2.  1.]\n",
      " [27.  9.  3.  1.]\n",
      " [ 8.  4.  2.  1.]]\n",
      "Increasing set to True : \n",
      " [[ 1.  2.  4.  8.]\n",
      " [ 1.  2.  4.  8.]\n",
      " [ 1.  3.  9. 27.]\n",
      " [ 1.  2.  4.  8.]]\n"
     ]
    }
   ],
   "source": [
    "def func(N, mat, vec, increasing):\n",
    "    \n",
    "    if increasing == False:\n",
    "        for i in range(N):\n",
    "            mat[:,i] = vec ** (N - i - 1)\n",
    "    else:\n",
    "        for i in range(N):\n",
    "            mat[:,i] = vec ** i\n",
    "            \n",
    "    return mat\n",
    "\n",
    "\n",
    "n = 4\n",
    "\n",
    "matrix = np.array(np.ones((n, n)))\n",
    "vector = np.array(np.random.randint(1, 4, n))\n",
    "\n",
    "print('Generated Vector : \\n', vector.reshape(-1, 1))\n",
    "print('-------------------')\n",
    "\n",
    "print('Increasing set to False : \\n', func(n, matrix, vector, False))\n",
    "print('Increasing set to True : \\n', func(n, matrix, vector, True))"
   ]
  },
  {
   "cell_type": "markdown",
   "metadata": {},
   "source": [
    "<h3> Write a function to find moving average in an array over a window:<br>\n",
    "Test it over [3, 5, 7, 2, 8, 10, 11, 65, 72, 81, 99, 100, 150] and window of 3.</h3>"
   ]
  },
  {
   "cell_type": "code",
   "execution_count": 3,
   "metadata": {},
   "outputs": [
    {
     "name": "stdout",
     "output_type": "stream",
     "text": [
      "Moving average :  [  5.     4.67   5.67   6.67   9.67  28.67  49.33  72.67  84.    93.33\n",
      " 116.33]\n",
      "Length of moving average values :  11\n"
     ]
    }
   ],
   "source": [
    "def func(arr, win):\n",
    "    sum_list = np.array([])\n",
    "    \n",
    "    for i in range(len(arr) - win + 1):\n",
    "        summ = 0\n",
    "        \n",
    "        for j in range(i, i + win):\n",
    "            summ += arr[j]\n",
    "            \n",
    "        sum_list = np.append(sum_list, summ / win)\n",
    "\n",
    "    return np.around(sum_list, decimals = 2)\n",
    "\n",
    "array = np.array([3, 5, 7, 2, 8, 10, 11, 65, 72, 81, 99, 100, 150])\n",
    "window = 3\n",
    "\n",
    "moving_avg = func(array, window)\n",
    "\n",
    "print('Moving average : ', moving_avg)\n",
    "print('Length of moving average values : ', len(moving_avg))"
   ]
  }
 ],
 "metadata": {
  "kernelspec": {
   "display_name": "Python 3",
   "language": "python",
   "name": "python3"
  },
  "language_info": {
   "codemirror_mode": {
    "name": "ipython",
    "version": 3
   },
   "file_extension": ".py",
   "mimetype": "text/x-python",
   "name": "python",
   "nbconvert_exporter": "python",
   "pygments_lexer": "ipython3",
   "version": "3.6.10"
  }
 },
 "nbformat": 4,
 "nbformat_minor": 4
}
