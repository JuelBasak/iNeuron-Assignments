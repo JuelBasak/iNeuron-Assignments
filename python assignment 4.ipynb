{
 "cells": [
  {
   "cell_type": "markdown",
   "metadata": {},
   "source": [
    "<h3> 1.1 Write a Python Program(with class concepts) to find the area of the triangle using the below formula.<br> <br>\n",
    "area = (s*(s-a)*(s-b)*(s-c)) ** 0.5 </h3> <br> <br>\n",
    "Function to take the length of the sides of triangle from user should be defined in the parent\n",
    "class and function to calculate the area should be defined in subclass."
   ]
  },
  {
   "cell_type": "code",
   "execution_count": 1,
   "metadata": {},
   "outputs": [
    {
     "name": "stdout",
     "output_type": "stream",
     "text": [
      "Enter the three sides of a triangle : 10 15 20\n",
      "The calculated area is : 72.62 units\n"
     ]
    }
   ],
   "source": [
    "class Triangle:\n",
    "    \n",
    "    a = 0\n",
    "    b = 0\n",
    "    c = 0\n",
    "    \n",
    "    def __init__(self):\n",
    "        a, b, c = map(int, input('Enter the three sides of a triangle : ').split())\n",
    "        self.a = a\n",
    "        self.b = b\n",
    "        self.c = c\n",
    "    \n",
    "class Area(Triangle):\n",
    "    \n",
    "    def __init__(self):\n",
    "        super().__init__()\n",
    "        \n",
    "    def calculate_area(self):\n",
    "        s = (self.a + self.b + self.c) / 2\n",
    "        return (s * (s - self.a) * (s - self.b) * (s - self.c)) ** 0.5\n",
    "\n",
    "obj = Area()\n",
    "ar = obj.calculate_area()\n",
    "\n",
    "print('The calculated area is : {:.2f} units'.format(ar))"
   ]
  },
  {
   "cell_type": "markdown",
   "metadata": {},
   "source": [
    "<h3> 1.2 Write a function filter_long_words() that takes a list of words and an integer n and returns\n",
    "the list of words that are longer than n. </h3>"
   ]
  },
  {
   "cell_type": "code",
   "execution_count": 2,
   "metadata": {},
   "outputs": [
    {
     "data": {
      "text/plain": [
       "['subtle,', 'effective', 'writing', 'monotonous', 'varying', 'sentence']"
      ]
     },
     "execution_count": 2,
     "metadata": {},
     "output_type": "execute_result"
    }
   ],
   "source": [
    "def filter_long_words(words, n):\n",
    "    long_words = []\n",
    "    for word in words:\n",
    "        if len(word) > n:\n",
    "            long_words.append(word)\n",
    "    \n",
    "    return long_words\n",
    "\n",
    "\n",
    "\n",
    "sample_word_list = ['A','subtle,', 'but','very','effective','way,','to','make','your','writing',\n",
    "                    'deadly','and','monotonous','is','by','never','varying','sentence','length']\n",
    "sample_n = 6\n",
    "filter_long_words(sample_word_list, sample_n)"
   ]
  },
  {
   "cell_type": "markdown",
   "metadata": {},
   "source": [
    "<h3> 2.1 Write a Python program using function concept that maps list of words into a list of integers\n",
    "representing the lengths of the corresponding words. </h3><br><br>\n",
    "Hint: If a list [ ab,cde,erty] is passed on to the python function output should come as [2,3,4]\n",
    "Here 2,3 and 4 are the lengths of the words in the list."
   ]
  },
  {
   "cell_type": "code",
   "execution_count": 3,
   "metadata": {},
   "outputs": [
    {
     "data": {
      "text/plain": [
       "[5, 5, 2, 6, 5, 4, 2, 3, 8, 3, 11, 9]"
      ]
     },
     "execution_count": 3,
     "metadata": {},
     "output_type": "execute_result"
    }
   ],
   "source": [
    "def words_to_integers(words):\n",
    "    word_length = list(map(len, words))\n",
    "    return word_length\n",
    "\n",
    "sample_word_list = ['Lorem', 'Ipsum', 'is', 'simply', 'dummy', 'text', 'of', 'the', 'printing', 'and', 'typesetting', 'industry.']\n",
    "\n",
    "words_to_integers(sample_word_list)"
   ]
  },
  {
   "cell_type": "markdown",
   "metadata": {},
   "source": [
    "<h3> 2.2 Write a Python function which takes a character (i.e. a string of length 1) and returns True if\n",
    "it is a vowel, False otherwise. </h3>"
   ]
  },
  {
   "cell_type": "code",
   "execution_count": 4,
   "metadata": {},
   "outputs": [
    {
     "name": "stdout",
     "output_type": "stream",
     "text": [
      "False\n",
      "False\n",
      "True\n",
      "True\n"
     ]
    }
   ],
   "source": [
    "def is_vowel(character):\n",
    "    if character == 'A' or character == 'E' or character == 'I' or character == 'O' or character == 'U' \\\n",
    "    or character == 'a' or character == 'e' or character == 'i' or character == 'o' or character == 'u':\n",
    "        return True\n",
    "    return False\n",
    "\n",
    "print(is_vowel('b'))\n",
    "print(is_vowel('X'))\n",
    "print(is_vowel('U'))\n",
    "print(is_vowel('i'))"
   ]
  },
  {
   "cell_type": "code",
   "execution_count": null,
   "metadata": {},
   "outputs": [],
   "source": []
  }
 ],
 "metadata": {
  "kernelspec": {
   "display_name": "Python 3",
   "language": "python",
   "name": "python3"
  },
  "language_info": {
   "codemirror_mode": {
    "name": "ipython",
    "version": 3
   },
   "file_extension": ".py",
   "mimetype": "text/x-python",
   "name": "python",
   "nbconvert_exporter": "python",
   "pygments_lexer": "ipython3",
   "version": "3.6.10"
  }
 },
 "nbformat": 4,
 "nbformat_minor": 4
}
