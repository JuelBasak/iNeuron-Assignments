{
 "cells": [
  {
   "cell_type": "code",
   "execution_count": 1,
   "metadata": {},
   "outputs": [],
   "source": [
    "start = 2000\n",
    "end = 3200\n",
    "\n",
    "for i in range(start, end + 1):\n",
    "    if i % 7 == 0 and i % 5 != 0:\n",
    "        print(i, end=', ')"
   ]
  },
  {
   "cell_type": "code",
   "execution_count": 2,
   "metadata": {},
   "outputs": [
    {
     "name": "stdout",
     "output_type": "stream",
     "text": [
      "Enter first name : Biswajit\n",
      "Enter last name : Basak\n",
      "tijawsiB kasaB\n"
     ]
    }
   ],
   "source": [
    "first_name = input('Enter first name : ')\n",
    "last_name = input('Enter last name : ')\n",
    "\n",
    "new_string = first_name[::-1] + ' ' + last_name[::-1]\n",
    "\n",
    "print(new_string)"
   ]
  },
  {
   "cell_type": "code",
   "execution_count": 11,
   "metadata": {},
   "outputs": [
    {
     "name": "stdout",
     "output_type": "stream",
     "text": [
      "904.78\n"
     ]
    }
   ],
   "source": [
    "from math import pi\n",
    "\n",
    "diameter_of_sphere = 12 \n",
    "radius_of_sphere = diameter_of_sphere / 2\n",
    "\n",
    "volume = (4/3) * pi * (radius_of_sphere ** 3)\n",
    "\n",
    "print('{0:.2f}'.format(volume))"
   ]
  },
  {
   "cell_type": "code",
   "execution_count": null,
   "metadata": {},
   "outputs": [],
   "source": []
  }
 ],
 "metadata": {
  "kernelspec": {
   "display_name": "Python 3",
   "language": "python",
   "name": "python3"
  },
  "language_info": {
   "codemirror_mode": {
    "name": "ipython",
    "version": 3
   },
   "file_extension": ".py",
   "mimetype": "text/x-python",
   "name": "python",
   "nbconvert_exporter": "python",
   "pygments_lexer": "ipython3",
   "version": "3.7.6"
  }
 },
 "nbformat": 4,
 "nbformat_minor": 4
}
