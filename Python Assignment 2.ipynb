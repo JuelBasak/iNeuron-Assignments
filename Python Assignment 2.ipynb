{
 "cells": [
  {
   "cell_type": "markdown",
   "metadata": {},
   "source": [
    "<h3>\n",
    "    1. Create the below pattern using nested for loop in Python.<br /><br />\n",
    "* <br />\n",
    "* * <br />\n",
    "* * *  <br />\n",
    "* * * * <br />\n",
    "* * * * * <br />\n",
    "* * * * <br />\n",
    "* * * <br />\n",
    "* * <br />\n",
    "* <br />\n",
    "</h3>"
   ]
  },
  {
   "cell_type": "code",
   "execution_count": 1,
   "metadata": {},
   "outputs": [
    {
     "name": "stdout",
     "output_type": "stream",
     "text": [
      "\n",
      "* \n",
      "* * \n",
      "* * * \n",
      "* * * * \n",
      "* * * * * \n",
      "* * * * \n",
      "* * * \n",
      "* * \n",
      "* \n"
     ]
    }
   ],
   "source": [
    "n = 5\n",
    "i = 0\n",
    "flag = 0\n",
    "\n",
    "while True:\n",
    "    for j in range(i):\n",
    "        print('* ', end='')\n",
    "    print()\n",
    "    \n",
    "    if i < 5 and flag == 0:\n",
    "        i += 1\n",
    "    else:\n",
    "        flag = 1\n",
    "        i -= 1\n",
    "        \n",
    "    if i == 0:\n",
    "        break"
   ]
  },
  {
   "cell_type": "markdown",
   "metadata": {},
   "source": [
    "<h3> 2. Write a Python program to reverse a word after accepting the input from the user. </h3>"
   ]
  },
  {
   "cell_type": "code",
   "execution_count": 2,
   "metadata": {},
   "outputs": [
    {
     "name": "stdout",
     "output_type": "stream",
     "text": [
      "Input word : ineuron\n",
      "Output :  norueni\n"
     ]
    }
   ],
   "source": [
    "word = input('Input word : ')\n",
    "\n",
    "print('Output : ', word[::-1])"
   ]
  },
  {
   "cell_type": "code",
   "execution_count": null,
   "metadata": {},
   "outputs": [],
   "source": []
  }
 ],
 "metadata": {
  "kernelspec": {
   "display_name": "Python 3",
   "language": "python",
   "name": "python3"
  },
  "language_info": {
   "codemirror_mode": {
    "name": "ipython",
    "version": 3
   },
   "file_extension": ".py",
   "mimetype": "text/x-python",
   "name": "python",
   "nbconvert_exporter": "python",
   "pygments_lexer": "ipython3",
   "version": "3.6.10"
  }
 },
 "nbformat": 4,
 "nbformat_minor": 4
}
